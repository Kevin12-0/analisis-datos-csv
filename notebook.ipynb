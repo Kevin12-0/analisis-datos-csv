{
 "cells": [
  {
   "attachments": {},
   "cell_type": "markdown",
   "metadata": {},
   "source": [
    "# Analis de DataSet con Pandas y Jupyter"
   ]
  },
  {
   "cell_type": "code",
   "execution_count": 1,
   "metadata": {},
   "outputs": [],
   "source": [
    "import pandas as pd"
   ]
  },
  {
   "attachments": {},
   "cell_type": "markdown",
   "metadata": {},
   "source": [
    "## Leer datos del CSV"
   ]
  },
  {
   "cell_type": "code",
   "execution_count": 2,
   "metadata": {},
   "outputs": [
    {
     "data": {
      "text/html": [
       "<div>\n",
       "<style scoped>\n",
       "    .dataframe tbody tr th:only-of-type {\n",
       "        vertical-align: middle;\n",
       "    }\n",
       "\n",
       "    .dataframe tbody tr th {\n",
       "        vertical-align: top;\n",
       "    }\n",
       "\n",
       "    .dataframe thead th {\n",
       "        text-align: right;\n",
       "    }\n",
       "</style>\n",
       "<table border=\"1\" class=\"dataframe\">\n",
       "  <thead>\n",
       "    <tr style=\"text-align: right;\">\n",
       "      <th></th>\n",
       "      <th>Year</th>\n",
       "      <th>Date Of Incident</th>\n",
       "      <th>Route</th>\n",
       "      <th>Operator</th>\n",
       "      <th>Group Name</th>\n",
       "      <th>Bus Garage</th>\n",
       "      <th>Borough</th>\n",
       "      <th>Injury Result Description</th>\n",
       "      <th>Incident Event Type</th>\n",
       "      <th>Victim Category</th>\n",
       "      <th>Victims Sex</th>\n",
       "      <th>Victims Age</th>\n",
       "    </tr>\n",
       "  </thead>\n",
       "  <tbody>\n",
       "    <tr>\n",
       "      <th>0</th>\n",
       "      <td>2015</td>\n",
       "      <td>01/01/2015</td>\n",
       "      <td>1</td>\n",
       "      <td>London General</td>\n",
       "      <td>Go-Ahead</td>\n",
       "      <td>Garage Not Available</td>\n",
       "      <td>Southwark</td>\n",
       "      <td>Injuries treated on scene</td>\n",
       "      <td>Onboard Injuries</td>\n",
       "      <td>Passenger</td>\n",
       "      <td>Male</td>\n",
       "      <td>Child</td>\n",
       "    </tr>\n",
       "    <tr>\n",
       "      <th>1</th>\n",
       "      <td>2015</td>\n",
       "      <td>01/01/2015</td>\n",
       "      <td>4</td>\n",
       "      <td>Metroline</td>\n",
       "      <td>Metroline</td>\n",
       "      <td>Garage Not Available</td>\n",
       "      <td>Islington</td>\n",
       "      <td>Injuries treated on scene</td>\n",
       "      <td>Onboard Injuries</td>\n",
       "      <td>Passenger</td>\n",
       "      <td>Male</td>\n",
       "      <td>Unknown</td>\n",
       "    </tr>\n",
       "    <tr>\n",
       "      <th>2</th>\n",
       "      <td>2015</td>\n",
       "      <td>01/01/2015</td>\n",
       "      <td>5</td>\n",
       "      <td>East London</td>\n",
       "      <td>Stagecoach</td>\n",
       "      <td>Garage Not Available</td>\n",
       "      <td>Havering</td>\n",
       "      <td>Taken to Hospital  Reported Serious Injury or...</td>\n",
       "      <td>Onboard Injuries</td>\n",
       "      <td>Passenger</td>\n",
       "      <td>Male</td>\n",
       "      <td>Elderly</td>\n",
       "    </tr>\n",
       "    <tr>\n",
       "      <th>3</th>\n",
       "      <td>2015</td>\n",
       "      <td>01/01/2015</td>\n",
       "      <td>5</td>\n",
       "      <td>East London</td>\n",
       "      <td>Stagecoach</td>\n",
       "      <td>Garage Not Available</td>\n",
       "      <td>None London Borough</td>\n",
       "      <td>Taken to Hospital  Reported Serious Injury or...</td>\n",
       "      <td>Onboard Injuries</td>\n",
       "      <td>Passenger</td>\n",
       "      <td>Male</td>\n",
       "      <td>Elderly</td>\n",
       "    </tr>\n",
       "    <tr>\n",
       "      <th>4</th>\n",
       "      <td>2015</td>\n",
       "      <td>01/01/2015</td>\n",
       "      <td>6</td>\n",
       "      <td>Metroline</td>\n",
       "      <td>Metroline</td>\n",
       "      <td>Garage Not Available</td>\n",
       "      <td>Westminster</td>\n",
       "      <td>Reported Minor Injury - Treated at Hospital</td>\n",
       "      <td>Onboard Injuries</td>\n",
       "      <td>Pedestrian</td>\n",
       "      <td>Female</td>\n",
       "      <td>Elderly</td>\n",
       "    </tr>\n",
       "  </tbody>\n",
       "</table>\n",
       "</div>"
      ],
      "text/plain": [
       "   Year Date Of Incident Route        Operator  Group Name  \\\n",
       "0  2015       01/01/2015     1  London General    Go-Ahead   \n",
       "1  2015       01/01/2015     4       Metroline   Metroline   \n",
       "2  2015       01/01/2015     5     East London  Stagecoach   \n",
       "3  2015       01/01/2015     5     East London  Stagecoach   \n",
       "4  2015       01/01/2015     6       Metroline   Metroline   \n",
       "\n",
       "             Bus Garage              Borough  \\\n",
       "0  Garage Not Available            Southwark   \n",
       "1  Garage Not Available            Islington   \n",
       "2  Garage Not Available             Havering   \n",
       "3  Garage Not Available  None London Borough   \n",
       "4  Garage Not Available          Westminster   \n",
       "\n",
       "                           Injury Result Description Incident Event Type  \\\n",
       "0                          Injuries treated on scene    Onboard Injuries   \n",
       "1                          Injuries treated on scene    Onboard Injuries   \n",
       "2  Taken to Hospital  Reported Serious Injury or...    Onboard Injuries   \n",
       "3  Taken to Hospital  Reported Serious Injury or...    Onboard Injuries   \n",
       "4        Reported Minor Injury - Treated at Hospital    Onboard Injuries   \n",
       "\n",
       "  Victim Category Victims Sex Victims Age  \n",
       "0       Passenger        Male       Child  \n",
       "1       Passenger        Male     Unknown  \n",
       "2       Passenger        Male     Elderly  \n",
       "3       Passenger        Male     Elderly  \n",
       "4      Pedestrian      Female     Elderly  "
      ]
     },
     "execution_count": 2,
     "metadata": {},
     "output_type": "execute_result"
    }
   ],
   "source": [
    "df = pd.read_csv(\n",
    "    \"18-proyecto-final-busaccidentsdata_d8d5ed5f-2ebe-4bb8-b89e-a9ad42b685e7.csv\",\n",
    "    encoding=\"latin1\",\n",
    ")\n",
    "df.head()"
   ]
  },
  {
   "attachments": {},
   "cell_type": "markdown",
   "metadata": {},
   "source": [
    "##  Numero total de registros"
   ]
  },
  {
   "cell_type": "code",
   "execution_count": 3,
   "metadata": {},
   "outputs": [
    {
     "data": {
      "text/html": [
       "<div>\n",
       "<style scoped>\n",
       "    .dataframe tbody tr th:only-of-type {\n",
       "        vertical-align: middle;\n",
       "    }\n",
       "\n",
       "    .dataframe tbody tr th {\n",
       "        vertical-align: top;\n",
       "    }\n",
       "\n",
       "    .dataframe thead th {\n",
       "        text-align: right;\n",
       "    }\n",
       "</style>\n",
       "<table border=\"1\" class=\"dataframe\">\n",
       "  <thead>\n",
       "    <tr style=\"text-align: right;\">\n",
       "      <th></th>\n",
       "      <th>Route</th>\n",
       "    </tr>\n",
       "  </thead>\n",
       "  <tbody>\n",
       "    <tr>\n",
       "      <th>count</th>\n",
       "      <td>23158</td>\n",
       "    </tr>\n",
       "    <tr>\n",
       "      <th>unique</th>\n",
       "      <td>612</td>\n",
       "    </tr>\n",
       "    <tr>\n",
       "      <th>top</th>\n",
       "      <td>OOS</td>\n",
       "    </tr>\n",
       "    <tr>\n",
       "      <th>freq</th>\n",
       "      <td>321</td>\n",
       "    </tr>\n",
       "  </tbody>\n",
       "</table>\n",
       "</div>"
      ],
      "text/plain": [
       "        Route\n",
       "count   23158\n",
       "unique    612\n",
       "top       OOS\n",
       "freq      321"
      ]
     },
     "execution_count": 3,
     "metadata": {},
     "output_type": "execute_result"
    }
   ],
   "source": [
    "total_data = [\"Route\"]\n",
    "df[total_data].describe()"
   ]
  },
  {
   "attachments": {},
   "cell_type": "markdown",
   "metadata": {},
   "source": [
    "## Numero total de casos por Municipio"
   ]
  },
  {
   "cell_type": "code",
   "execution_count": 4,
   "metadata": {},
   "outputs": [
    {
     "data": {
      "text/plain": [
       "Borough\n",
       "Westminster             1571\n",
       "Southwark               1107\n",
       "Lambeth                 1107\n",
       "Croydon                 1032\n",
       "Lewisham                1006\n",
       "Barnet                   922\n",
       "Camden                   900\n",
       "Brent                    887\n",
       "Ealing                   863\n",
       "Greenwich                832\n",
       "Haringey                 831\n",
       "Hackney                  796\n",
       "Islington                769\n",
       "Bromley                  673\n",
       "Havering                 652\n",
       "Hounslow                 642\n",
       "Newham                   634\n",
       "Hammersmith & Fulham     632\n",
       "Enfield                  584\n",
       "None London Borough      561\n",
       "Not specified            553\n",
       "Wandsworth               551\n",
       "Waltham Forest           526\n",
       "Hillingdon               517\n",
       "Redbridge                470\n",
       "Kingston upon Thames     451\n",
       "Tower Hamlets            435\n",
       "Bexley                   414\n",
       "Richmond Upon Thames     403\n",
       "Harrow                   384\n",
       "Barking & Dagenham       374\n",
       "Kensington & Chelsea     334\n",
       "Merton                   309\n",
       "City of London           243\n",
       "Sutton                   193\n",
       "Name: count, dtype: int64"
      ]
     },
     "execution_count": 4,
     "metadata": {},
     "output_type": "execute_result"
    }
   ],
   "source": [
    "insidentsTotal = df[\"Borough\"].value_counts()\n",
    "insidentsTotal"
   ]
  },
  {
   "attachments": {},
   "cell_type": "markdown",
   "metadata": {},
   "source": [
    "## Municipio con mas accidentes registrados"
   ]
  },
  {
   "cell_type": "code",
   "execution_count": 5,
   "metadata": {},
   "outputs": [],
   "source": [
    "maxIncident = insidentsTotal.max()\n",
    "nameOfBorough = insidentsTotal.idxmax()"
   ]
  },
  {
   "cell_type": "code",
   "execution_count": 6,
   "metadata": {},
   "outputs": [
    {
     "data": {
      "text/plain": [
       "(1571, 'Westminster')"
      ]
     },
     "execution_count": 6,
     "metadata": {},
     "output_type": "execute_result"
    }
   ],
   "source": [
    "maxIncident, nameOfBorough"
   ]
  },
  {
   "attachments": {},
   "cell_type": "markdown",
   "metadata": {},
   "source": [
    "## Graficamos los municipios con mas numero de accidentes\n"
   ]
  },
  {
   "cell_type": "code",
   "execution_count": 7,
   "metadata": {},
   "outputs": [],
   "source": [
    "import matplotlib.pyplot as plt"
   ]
  },
  {
   "cell_type": "code",
   "execution_count": 15,
   "metadata": {},
   "outputs": [],
   "source": [
    "topFiveValues = insidentsTotal.nlargest(5)"
   ]
  },
  {
   "cell_type": "code",
   "execution_count": 16,
   "metadata": {},
   "outputs": [
    {
     "data": {
      "image/png": "[encoded data removed]",
      "text/plain": [
       "<Figure size 640x480 with 1 Axes>"
      ]
     },
     "metadata": {},
     "output_type": "display_data"
    }
   ],
   "source": [
    "plt.bar(topFiveValues.index,topFiveValues.values)\n",
    "plt.xlabel(\"Municipios\")\n",
    "plt.ylabel(\"Conteo de accidentes\")\n",
    "plt.title(\"Numero de accidentes por Municipio\")\n",
    "plt.show()"
   ]
  },
  {
   "cell_type": "markdown",
   "metadata": {},
   "source": [
    "## Municipios con menor numero de accidentes registrados"
   ]
  },
  {
   "cell_type": "code",
   "execution_count": 19,
   "metadata": {},
   "outputs": [],
   "source": [
    "topFiveSmallValues = insidentsTotal.nsmallest(4)"
   ]
  },
  {
   "cell_type": "code",
   "execution_count": 20,
   "metadata": {},
   "outputs": [
    {
     "data": {
      "image/png": "[encoded data removed]",
      "text/plain": [
       "<Figure size 640x480 with 1 Axes>"
      ]
     },
     "metadata": {},
     "output_type": "display_data"
    }
   ],
   "source": [
    "plt.bar(topFiveSmallValues.index,topFiveSmallValues.values)\n",
    "plt.xlabel(\"Municipio\")\n",
    "plt.ylabel(\"Conteo de accidentes\")\n",
    "plt.title(\"Municipios con menor numero de accidentes\")\n",
    "plt.show()"
   ]
  },
  {
   "cell_type": "markdown",
   "metadata": {},
   "source": [
    "## Rangos de edad afectados"
   ]
  },
  {
   "cell_type": "code",
   "execution_count": 21,
   "metadata": {},
   "outputs": [
    {
     "data": {
      "text/html": [
       "<div>\n",
       "<style scoped>\n",
       "    .dataframe tbody tr th:only-of-type {\n",
       "        vertical-align: middle;\n",
       "    }\n",
       "\n",
       "    .dataframe tbody tr th {\n",
       "        vertical-align: top;\n",
       "    }\n",
       "\n",
       "    .dataframe thead th {\n",
       "        text-align: right;\n",
       "    }\n",
       "</style>\n",
       "<table border=\"1\" class=\"dataframe\">\n",
       "  <thead>\n",
       "    <tr style=\"text-align: right;\">\n",
       "      <th></th>\n",
       "      <th>Year</th>\n",
       "      <th>Date Of Incident</th>\n",
       "      <th>Route</th>\n",
       "      <th>Operator</th>\n",
       "      <th>Group Name</th>\n",
       "      <th>Bus Garage</th>\n",
       "      <th>Borough</th>\n",
       "      <th>Injury Result Description</th>\n",
       "      <th>Incident Event Type</th>\n",
       "      <th>Victim Category</th>\n",
       "      <th>Victims Sex</th>\n",
       "      <th>Victims Age</th>\n",
       "    </tr>\n",
       "  </thead>\n",
       "  <tbody>\n",
       "    <tr>\n",
       "      <th>0</th>\n",
       "      <td>2015</td>\n",
       "      <td>01/01/2015</td>\n",
       "      <td>1</td>\n",
       "      <td>London General</td>\n",
       "      <td>Go-Ahead</td>\n",
       "      <td>Garage Not Available</td>\n",
       "      <td>Southwark</td>\n",
       "      <td>Injuries treated on scene</td>\n",
       "      <td>Onboard Injuries</td>\n",
       "      <td>Passenger</td>\n",
       "      <td>Male</td>\n",
       "      <td>Child</td>\n",
       "    </tr>\n",
       "    <tr>\n",
       "      <th>1</th>\n",
       "      <td>2015</td>\n",
       "      <td>01/01/2015</td>\n",
       "      <td>4</td>\n",
       "      <td>Metroline</td>\n",
       "      <td>Metroline</td>\n",
       "      <td>Garage Not Available</td>\n",
       "      <td>Islington</td>\n",
       "      <td>Injuries treated on scene</td>\n",
       "      <td>Onboard Injuries</td>\n",
       "      <td>Passenger</td>\n",
       "      <td>Male</td>\n",
       "      <td>Unknown</td>\n",
       "    </tr>\n",
       "    <tr>\n",
       "      <th>2</th>\n",
       "      <td>2015</td>\n",
       "      <td>01/01/2015</td>\n",
       "      <td>5</td>\n",
       "      <td>East London</td>\n",
       "      <td>Stagecoach</td>\n",
       "      <td>Garage Not Available</td>\n",
       "      <td>Havering</td>\n",
       "      <td>Taken to Hospital  Reported Serious Injury or...</td>\n",
       "      <td>Onboard Injuries</td>\n",
       "      <td>Passenger</td>\n",
       "      <td>Male</td>\n",
       "      <td>Elderly</td>\n",
       "    </tr>\n",
       "    <tr>\n",
       "      <th>3</th>\n",
       "      <td>2015</td>\n",
       "      <td>01/01/2015</td>\n",
       "      <td>5</td>\n",
       "      <td>East London</td>\n",
       "      <td>Stagecoach</td>\n",
       "      <td>Garage Not Available</td>\n",
       "      <td>None London Borough</td>\n",
       "      <td>Taken to Hospital  Reported Serious Injury or...</td>\n",
       "      <td>Onboard Injuries</td>\n",
       "      <td>Passenger</td>\n",
       "      <td>Male</td>\n",
       "      <td>Elderly</td>\n",
       "    </tr>\n",
       "    <tr>\n",
       "      <th>4</th>\n",
       "      <td>2015</td>\n",
       "      <td>01/01/2015</td>\n",
       "      <td>6</td>\n",
       "      <td>Metroline</td>\n",
       "      <td>Metroline</td>\n",
       "      <td>Garage Not Available</td>\n",
       "      <td>Westminster</td>\n",
       "      <td>Reported Minor Injury - Treated at Hospital</td>\n",
       "      <td>Onboard Injuries</td>\n",
       "      <td>Pedestrian</td>\n",
       "      <td>Female</td>\n",
       "      <td>Elderly</td>\n",
       "    </tr>\n",
       "  </tbody>\n",
       "</table>\n",
       "</div>"
      ],
      "text/plain": [
       "   Year Date Of Incident Route        Operator  Group Name  \\\n",
       "0  2015       01/01/2015     1  London General    Go-Ahead   \n",
       "1  2015       01/01/2015     4       Metroline   Metroline   \n",
       "2  2015       01/01/2015     5     East London  Stagecoach   \n",
       "3  2015       01/01/2015     5     East London  Stagecoach   \n",
       "4  2015       01/01/2015     6       Metroline   Metroline   \n",
       "\n",
       "             Bus Garage              Borough  \\\n",
       "0  Garage Not Available            Southwark   \n",
       "1  Garage Not Available            Islington   \n",
       "2  Garage Not Available             Havering   \n",
       "3  Garage Not Available  None London Borough   \n",
       "4  Garage Not Available          Westminster   \n",
       "\n",
       "                           Injury Result Description Incident Event Type  \\\n",
       "0                          Injuries treated on scene    Onboard Injuries   \n",
       "1                          Injuries treated on scene    Onboard Injuries   \n",
       "2  Taken to Hospital  Reported Serious Injury or...    Onboard Injuries   \n",
       "3  Taken to Hospital  Reported Serious Injury or...    Onboard Injuries   \n",
       "4        Reported Minor Injury - Treated at Hospital    Onboard Injuries   \n",
       "\n",
       "  Victim Category Victims Sex Victims Age  \n",
       "0       Passenger        Male       Child  \n",
       "1       Passenger        Male     Unknown  \n",
       "2       Passenger        Male     Elderly  \n",
       "3       Passenger        Male     Elderly  \n",
       "4      Pedestrian      Female     Elderly  "
      ]
     },
     "execution_count": 21,
     "metadata": {},
     "output_type": "execute_result"
    }
   ],
   "source": [
    "df.head()"
   ]
  },
  {
   "cell_type": "code",
   "execution_count": 22,
   "metadata": {},
   "outputs": [
    {
     "data": {
      "text/plain": [
       "Victims Age\n",
       "Adult      10754\n",
       "Unknown     7135\n",
       "Elderly     2769\n",
       "Child       2181\n",
       "Youth        319\n",
       "Name: count, dtype: int64"
      ]
     },
     "execution_count": 22,
     "metadata": {},
     "output_type": "execute_result"
    }
   ],
   "source": [
    "victimsAge = df[\"Victims Age\"].value_counts()\n",
    "victimsAge"
   ]
  },
  {
   "cell_type": "markdown",
   "metadata": {},
   "source": [
    "## Graficar los ragos de edades afectados"
   ]
  },
  {
   "cell_type": "code",
   "execution_count": 23,
   "metadata": {},
   "outputs": [
    {
     "data": {
      "text/plain": [
       "Victims Age\n",
       "Adult      10754\n",
       "Unknown     7135\n",
       "Elderly     2769\n",
       "Child       2181\n",
       "Youth        319\n",
       "Name: count, dtype: int64"
      ]
     },
     "execution_count": 23,
     "metadata": {},
     "output_type": "execute_result"
    }
   ],
   "source": [
    "topAgeValues = victimsAge.nlargest(5)\n",
    "topAgeValues"
   ]
  },
  {
   "cell_type": "code",
   "execution_count": 24,
   "metadata": {},
   "outputs": [
    {
     "data": {
      "image/png": "[encoded data removed]",
      "text/plain": [
       "<Figure size 640x480 with 1 Axes>"
      ]
     },
     "metadata": {},
     "output_type": "display_data"
    }
   ],
   "source": [
    "plt.bar(topAgeValues.index,topAgeValues.values)\n",
    "plt.xlabel(\"Rango de Egages\")\n",
    "plt.ylabel(\"Coneto\")\n",
    "plt.title(\"Rangos de edad afectados\")\n",
    "plt.show()"
   ]
  },
  {
   "cell_type": "markdown",
   "metadata": {},
   "source": [
    "## Grafico de pastel segun los rangos de edad afectados"
   ]
  },
  {
   "cell_type": "code",
   "execution_count": 25,
   "metadata": {},
   "outputs": [
    {
     "data": {
      "text/html": [
       "<div>\n",
       "<style scoped>\n",
       "    .dataframe tbody tr th:only-of-type {\n",
       "        vertical-align: middle;\n",
       "    }\n",
       "\n",
       "    .dataframe tbody tr th {\n",
       "        vertical-align: top;\n",
       "    }\n",
       "\n",
       "    .dataframe thead th {\n",
       "        text-align: right;\n",
       "    }\n",
       "</style>\n",
       "<table border=\"1\" class=\"dataframe\">\n",
       "  <thead>\n",
       "    <tr style=\"text-align: right;\">\n",
       "      <th></th>\n",
       "      <th>Year</th>\n",
       "      <th>Date Of Incident</th>\n",
       "      <th>Route</th>\n",
       "      <th>Operator</th>\n",
       "      <th>Group Name</th>\n",
       "      <th>Bus Garage</th>\n",
       "      <th>Borough</th>\n",
       "      <th>Injury Result Description</th>\n",
       "      <th>Incident Event Type</th>\n",
       "      <th>Victim Category</th>\n",
       "      <th>Victims Sex</th>\n",
       "      <th>Victims Age</th>\n",
       "    </tr>\n",
       "  </thead>\n",
       "  <tbody>\n",
       "    <tr>\n",
       "      <th>0</th>\n",
       "      <td>2015</td>\n",
       "      <td>01/01/2015</td>\n",
       "      <td>1</td>\n",
       "      <td>London General</td>\n",
       "      <td>Go-Ahead</td>\n",
       "      <td>Garage Not Available</td>\n",
       "      <td>Southwark</td>\n",
       "      <td>Injuries treated on scene</td>\n",
       "      <td>Onboard Injuries</td>\n",
       "      <td>Passenger</td>\n",
       "      <td>Male</td>\n",
       "      <td>Child</td>\n",
       "    </tr>\n",
       "    <tr>\n",
       "      <th>1</th>\n",
       "      <td>2015</td>\n",
       "      <td>01/01/2015</td>\n",
       "      <td>4</td>\n",
       "      <td>Metroline</td>\n",
       "      <td>Metroline</td>\n",
       "      <td>Garage Not Available</td>\n",
       "      <td>Islington</td>\n",
       "      <td>Injuries treated on scene</td>\n",
       "      <td>Onboard Injuries</td>\n",
       "      <td>Passenger</td>\n",
       "      <td>Male</td>\n",
       "      <td>Unknown</td>\n",
       "    </tr>\n",
       "    <tr>\n",
       "      <th>2</th>\n",
       "      <td>2015</td>\n",
       "      <td>01/01/2015</td>\n",
       "      <td>5</td>\n",
       "      <td>East London</td>\n",
       "      <td>Stagecoach</td>\n",
       "      <td>Garage Not Available</td>\n",
       "      <td>Havering</td>\n",
       "      <td>Taken to Hospital  Reported Serious Injury or...</td>\n",
       "      <td>Onboard Injuries</td>\n",
       "      <td>Passenger</td>\n",
       "      <td>Male</td>\n",
       "      <td>Elderly</td>\n",
       "    </tr>\n",
       "    <tr>\n",
       "      <th>3</th>\n",
       "      <td>2015</td>\n",
       "      <td>01/01/2015</td>\n",
       "      <td>5</td>\n",
       "      <td>East London</td>\n",
       "      <td>Stagecoach</td>\n",
       "      <td>Garage Not Available</td>\n",
       "      <td>None London Borough</td>\n",
       "      <td>Taken to Hospital  Reported Serious Injury or...</td>\n",
       "      <td>Onboard Injuries</td>\n",
       "      <td>Passenger</td>\n",
       "      <td>Male</td>\n",
       "      <td>Elderly</td>\n",
       "    </tr>\n",
       "    <tr>\n",
       "      <th>4</th>\n",
       "      <td>2015</td>\n",
       "      <td>01/01/2015</td>\n",
       "      <td>6</td>\n",
       "      <td>Metroline</td>\n",
       "      <td>Metroline</td>\n",
       "      <td>Garage Not Available</td>\n",
       "      <td>Westminster</td>\n",
       "      <td>Reported Minor Injury - Treated at Hospital</td>\n",
       "      <td>Onboard Injuries</td>\n",
       "      <td>Pedestrian</td>\n",
       "      <td>Female</td>\n",
       "      <td>Elderly</td>\n",
       "    </tr>\n",
       "  </tbody>\n",
       "</table>\n",
       "</div>"
      ],
      "text/plain": [
       "   Year Date Of Incident Route        Operator  Group Name  \\\n",
       "0  2015       01/01/2015     1  London General    Go-Ahead   \n",
       "1  2015       01/01/2015     4       Metroline   Metroline   \n",
       "2  2015       01/01/2015     5     East London  Stagecoach   \n",
       "3  2015       01/01/2015     5     East London  Stagecoach   \n",
       "4  2015       01/01/2015     6       Metroline   Metroline   \n",
       "\n",
       "             Bus Garage              Borough  \\\n",
       "0  Garage Not Available            Southwark   \n",
       "1  Garage Not Available            Islington   \n",
       "2  Garage Not Available             Havering   \n",
       "3  Garage Not Available  None London Borough   \n",
       "4  Garage Not Available          Westminster   \n",
       "\n",
       "                           Injury Result Description Incident Event Type  \\\n",
       "0                          Injuries treated on scene    Onboard Injuries   \n",
       "1                          Injuries treated on scene    Onboard Injuries   \n",
       "2  Taken to Hospital  Reported Serious Injury or...    Onboard Injuries   \n",
       "3  Taken to Hospital  Reported Serious Injury or...    Onboard Injuries   \n",
       "4        Reported Minor Injury - Treated at Hospital    Onboard Injuries   \n",
       "\n",
       "  Victim Category Victims Sex Victims Age  \n",
       "0       Passenger        Male       Child  \n",
       "1       Passenger        Male     Unknown  \n",
       "2       Passenger        Male     Elderly  \n",
       "3       Passenger        Male     Elderly  \n",
       "4      Pedestrian      Female     Elderly  "
      ]
     },
     "execution_count": 25,
     "metadata": {},
     "output_type": "execute_result"
    }
   ],
   "source": [
    "df.head()"
   ]
  },
  {
   "cell_type": "code",
   "execution_count": 26,
   "metadata": {},
   "outputs": [
    {
     "data": {
      "text/plain": [
       "Victims Age\n",
       "Adult      46.437516\n",
       "Unknown    30.810087\n",
       "Elderly    11.956991\n",
       "Child       9.417912\n",
       "Youth       1.377494\n",
       "Name: proportion, dtype: float64"
      ]
     },
     "execution_count": 26,
     "metadata": {},
     "output_type": "execute_result"
    }
   ],
   "source": [
    "porcentVictimgsAge = df[\"Victims Age\"].value_counts(normalize=True) * 100\n",
    "porcentVictimgsAge"
   ]
  },
  {
   "cell_type": "code",
   "execution_count": 28,
   "metadata": {},
   "outputs": [
    {
     "data": {
      "image/png": "[encoded data removed]",
      "text/plain": [
       "<Figure size 640x480 with 1 Axes>"
      ]
     },
     "metadata": {},
     "output_type": "display_data"
    }
   ],
   "source": [
    "porcentVictimgsAge.plot(kind='pie', autopct='%1.1f%%')\n",
    "plt.axis(\"equal\")\n",
    "plt.title(\"Distribucion de Ragdo de edades\")\n",
    "plt.show()"
   ]
  }
 ],
 "metadata": {
  "kernelspec": {
   "display_name": "Python 3",
   "language": "python",
   "name": "python3"
  },
  "language_info": {
   "codemirror_mode": {
    "name": "ipython",
    "version": 3
   },
   "file_extension": ".py",
   "mimetype": "text/x-python",
   "name": "python",
   "nbconvert_exporter": "python",
   "pygments_lexer": "ipython3",
   "version": "3.11.4"
  },
  "orig_nbformat": 4
 },
 "nbformat": 4,
 "nbformat_minor": 2
}
